{
  "nbformat": 4,
  "nbformat_minor": 0,
  "metadata": {
    "colab": {
      "provenance": [],
      "authorship_tag": "ABX9TyPd9ZREiEx2Sq6NN0gtGK4L",
      "include_colab_link": true
    },
    "kernelspec": {
      "name": "python3",
      "display_name": "Python 3"
    },
    "language_info": {
      "name": "python"
    }
  },
  "cells": [
    {
      "cell_type": "markdown",
      "metadata": {
        "id": "view-in-github",
        "colab_type": "text"
      },
      "source": [
        "<a href=\"https://colab.research.google.com/github/fatemehes75/Regression/blob/main/Fit_S_curve_to_China's_GDP.ipynb\" target=\"_parent\"><img src=\"https://colab.research.google.com/assets/colab-badge.svg\" alt=\"Open In Colab\"/></a>"
      ]
    },
    {
      "cell_type": "markdown",
      "source": [
        "## Fit S_curve to China's GDP from 1960 to 2014.ipynb"
      ],
      "metadata": {
        "id": "vt1NyLuhQpMD"
      }
    },
    {
      "cell_type": "code",
      "source": [
        "import numpy as np\n",
        "import pandas as pd\n",
        "import numpy as np\n",
        "import matplotlib.pyplot as plt\n",
        "%matplotlib inline\n",
        "\n",
        "#downloading dataset\n",
        "!wget -nv -O china_gdp.csv https://cf-courses-data.s3.us.cloud-object-storage.appdomain.cloud/IBMDeveloperSkillsNetwork-ML0101EN-SkillsNetwork/labs/Module%202/data/china_gdp.csv\n",
        "    \n",
        "df = pd.read_csv(\"china_gdp.csv\")\n",
        "df.head(10)"
      ],
      "metadata": {
        "colab": {
          "base_uri": "https://localhost:8080/",
          "height": 381
        },
        "id": "m1-NPzsgQqYM",
        "outputId": "cbe3552c-1cc0-460a-b9c6-f77255ddc848"
      },
      "execution_count": 1,
      "outputs": [
        {
          "output_type": "stream",
          "name": "stdout",
          "text": [
            "2023-04-18 17:38:42 URL:https://cf-courses-data.s3.us.cloud-object-storage.appdomain.cloud/IBMDeveloperSkillsNetwork-ML0101EN-SkillsNetwork/labs/Module%202/data/china_gdp.csv [1218/1218] -> \"china_gdp.csv\" [1]\n"
          ]
        },
        {
          "output_type": "execute_result",
          "data": {
            "text/plain": [
              "   Year         Value\n",
              "0  1960  5.918412e+10\n",
              "1  1961  4.955705e+10\n",
              "2  1962  4.668518e+10\n",
              "3  1963  5.009730e+10\n",
              "4  1964  5.906225e+10\n",
              "5  1965  6.970915e+10\n",
              "6  1966  7.587943e+10\n",
              "7  1967  7.205703e+10\n",
              "8  1968  6.999350e+10\n",
              "9  1969  7.871882e+10"
            ],
            "text/html": [
              "\n",
              "  <div id=\"df-484b4907-fd4a-455e-89f5-d1046e23b895\">\n",
              "    <div class=\"colab-df-container\">\n",
              "      <div>\n",
              "<style scoped>\n",
              "    .dataframe tbody tr th:only-of-type {\n",
              "        vertical-align: middle;\n",
              "    }\n",
              "\n",
              "    .dataframe tbody tr th {\n",
              "        vertical-align: top;\n",
              "    }\n",
              "\n",
              "    .dataframe thead th {\n",
              "        text-align: right;\n",
              "    }\n",
              "</style>\n",
              "<table border=\"1\" class=\"dataframe\">\n",
              "  <thead>\n",
              "    <tr style=\"text-align: right;\">\n",
              "      <th></th>\n",
              "      <th>Year</th>\n",
              "      <th>Value</th>\n",
              "    </tr>\n",
              "  </thead>\n",
              "  <tbody>\n",
              "    <tr>\n",
              "      <th>0</th>\n",
              "      <td>1960</td>\n",
              "      <td>5.918412e+10</td>\n",
              "    </tr>\n",
              "    <tr>\n",
              "      <th>1</th>\n",
              "      <td>1961</td>\n",
              "      <td>4.955705e+10</td>\n",
              "    </tr>\n",
              "    <tr>\n",
              "      <th>2</th>\n",
              "      <td>1962</td>\n",
              "      <td>4.668518e+10</td>\n",
              "    </tr>\n",
              "    <tr>\n",
              "      <th>3</th>\n",
              "      <td>1963</td>\n",
              "      <td>5.009730e+10</td>\n",
              "    </tr>\n",
              "    <tr>\n",
              "      <th>4</th>\n",
              "      <td>1964</td>\n",
              "      <td>5.906225e+10</td>\n",
              "    </tr>\n",
              "    <tr>\n",
              "      <th>5</th>\n",
              "      <td>1965</td>\n",
              "      <td>6.970915e+10</td>\n",
              "    </tr>\n",
              "    <tr>\n",
              "      <th>6</th>\n",
              "      <td>1966</td>\n",
              "      <td>7.587943e+10</td>\n",
              "    </tr>\n",
              "    <tr>\n",
              "      <th>7</th>\n",
              "      <td>1967</td>\n",
              "      <td>7.205703e+10</td>\n",
              "    </tr>\n",
              "    <tr>\n",
              "      <th>8</th>\n",
              "      <td>1968</td>\n",
              "      <td>6.999350e+10</td>\n",
              "    </tr>\n",
              "    <tr>\n",
              "      <th>9</th>\n",
              "      <td>1969</td>\n",
              "      <td>7.871882e+10</td>\n",
              "    </tr>\n",
              "  </tbody>\n",
              "</table>\n",
              "</div>\n",
              "      <button class=\"colab-df-convert\" onclick=\"convertToInteractive('df-484b4907-fd4a-455e-89f5-d1046e23b895')\"\n",
              "              title=\"Convert this dataframe to an interactive table.\"\n",
              "              style=\"display:none;\">\n",
              "        \n",
              "  <svg xmlns=\"http://www.w3.org/2000/svg\" height=\"24px\"viewBox=\"0 0 24 24\"\n",
              "       width=\"24px\">\n",
              "    <path d=\"M0 0h24v24H0V0z\" fill=\"none\"/>\n",
              "    <path d=\"M18.56 5.44l.94 2.06.94-2.06 2.06-.94-2.06-.94-.94-2.06-.94 2.06-2.06.94zm-11 1L8.5 8.5l.94-2.06 2.06-.94-2.06-.94L8.5 2.5l-.94 2.06-2.06.94zm10 10l.94 2.06.94-2.06 2.06-.94-2.06-.94-.94-2.06-.94 2.06-2.06.94z\"/><path d=\"M17.41 7.96l-1.37-1.37c-.4-.4-.92-.59-1.43-.59-.52 0-1.04.2-1.43.59L10.3 9.45l-7.72 7.72c-.78.78-.78 2.05 0 2.83L4 21.41c.39.39.9.59 1.41.59.51 0 1.02-.2 1.41-.59l7.78-7.78 2.81-2.81c.8-.78.8-2.07 0-2.86zM5.41 20L4 18.59l7.72-7.72 1.47 1.35L5.41 20z\"/>\n",
              "  </svg>\n",
              "      </button>\n",
              "      \n",
              "  <style>\n",
              "    .colab-df-container {\n",
              "      display:flex;\n",
              "      flex-wrap:wrap;\n",
              "      gap: 12px;\n",
              "    }\n",
              "\n",
              "    .colab-df-convert {\n",
              "      background-color: #E8F0FE;\n",
              "      border: none;\n",
              "      border-radius: 50%;\n",
              "      cursor: pointer;\n",
              "      display: none;\n",
              "      fill: #1967D2;\n",
              "      height: 32px;\n",
              "      padding: 0 0 0 0;\n",
              "      width: 32px;\n",
              "    }\n",
              "\n",
              "    .colab-df-convert:hover {\n",
              "      background-color: #E2EBFA;\n",
              "      box-shadow: 0px 1px 2px rgba(60, 64, 67, 0.3), 0px 1px 3px 1px rgba(60, 64, 67, 0.15);\n",
              "      fill: #174EA6;\n",
              "    }\n",
              "\n",
              "    [theme=dark] .colab-df-convert {\n",
              "      background-color: #3B4455;\n",
              "      fill: #D2E3FC;\n",
              "    }\n",
              "\n",
              "    [theme=dark] .colab-df-convert:hover {\n",
              "      background-color: #434B5C;\n",
              "      box-shadow: 0px 1px 3px 1px rgba(0, 0, 0, 0.15);\n",
              "      filter: drop-shadow(0px 1px 2px rgba(0, 0, 0, 0.3));\n",
              "      fill: #FFFFFF;\n",
              "    }\n",
              "  </style>\n",
              "\n",
              "      <script>\n",
              "        const buttonEl =\n",
              "          document.querySelector('#df-484b4907-fd4a-455e-89f5-d1046e23b895 button.colab-df-convert');\n",
              "        buttonEl.style.display =\n",
              "          google.colab.kernel.accessAllowed ? 'block' : 'none';\n",
              "\n",
              "        async function convertToInteractive(key) {\n",
              "          const element = document.querySelector('#df-484b4907-fd4a-455e-89f5-d1046e23b895');\n",
              "          const dataTable =\n",
              "            await google.colab.kernel.invokeFunction('convertToInteractive',\n",
              "                                                     [key], {});\n",
              "          if (!dataTable) return;\n",
              "\n",
              "          const docLinkHtml = 'Like what you see? Visit the ' +\n",
              "            '<a target=\"_blank\" href=https://colab.research.google.com/notebooks/data_table.ipynb>data table notebook</a>'\n",
              "            + ' to learn more about interactive tables.';\n",
              "          element.innerHTML = '';\n",
              "          dataTable['output_type'] = 'display_data';\n",
              "          await google.colab.output.renderOutput(dataTable, element);\n",
              "          const docLink = document.createElement('div');\n",
              "          docLink.innerHTML = docLinkHtml;\n",
              "          element.appendChild(docLink);\n",
              "        }\n",
              "      </script>\n",
              "    </div>\n",
              "  </div>\n",
              "  "
            ]
          },
          "metadata": {},
          "execution_count": 1
        }
      ]
    },
    {
      "cell_type": "code",
      "source": [
        "x_data, y_data = (df[\"Year\"].values, df[\"Value\"].values)\n",
        "plt.plot(x_data, y_data, 'b^')\n",
        "plt.ylabel('GDP')\n",
        "plt.xlabel('Year')\n",
        "plt.show()"
      ],
      "metadata": {
        "colab": {
          "base_uri": "https://localhost:8080/",
          "height": 465
        },
        "id": "_UX6qmN8Q04C",
        "outputId": "e25ff014-1549-48db-9440-3cf42e0cf2db"
      },
      "execution_count": 2,
      "outputs": [
        {
          "output_type": "display_data",
          "data": {
            "text/plain": [
              "<Figure size 640x480 with 1 Axes>"
            ],
            "image/png": "[encoded data removed]"
          },
          "metadata": {}
        }
      ]
    },
    {
      "cell_type": "markdown",
      "source": [
        "![photo_2023-04-18 12.55.45.jpeg](data:image/jpeg;base64,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)"
      ],
      "metadata": {
        "id": "SLgrzGNoS0mq"
      }
    },
    {
      "cell_type": "code",
      "source": [
        "def sigmoid(x, a, b):\n",
        "     y = 1 / (1 + np.exp(-a*(x-b)))\n",
        "     return y"
      ],
      "metadata": {
        "id": "XkConwn7S24F"
      },
      "execution_count": 3,
      "outputs": []
    },
    {
      "cell_type": "code",
      "source": [
        "# Data preprocessing\n",
        "x_data =x_data/max(x_data)\n",
        "y_data =y_data/max(y_data)"
      ],
      "metadata": {
        "id": "fhR6IBLoUYMe"
      },
      "execution_count": 4,
      "outputs": []
    },
    {
      "cell_type": "code",
      "source": [
        "# split data into trainand test \n",
        "msk = np.random.rand(len(df)) < 0.8\n",
        "x_train = x_data[msk]\n",
        "x_test = x_data[~msk]\n",
        "\n",
        "y_train = y_data[msk]\n",
        "y_test = y_data[~msk]"
      ],
      "metadata": {
        "id": "l5wPUur8c2cx"
      },
      "execution_count": 8,
      "outputs": []
    },
    {
      "cell_type": "markdown",
      "source": [
        "scipy.optimize.curve_fit(f, xdata, ydata, p0=None, sigma=None, absolute_sigma=False, check_finite=True, bounds=(-inf, inf), method=None, jac=None, *, full_output=False, **kwargs)\n",
        "Returns:\n",
        "popt\n",
        "Optimal values for the parameters so that the sum of the squared residuals of f(xdata, *popt) - ydata is minimized."
      ],
      "metadata": {
        "id": "itYK-E_gTStU"
      }
    },
    {
      "cell_type": "code",
      "source": [
        "from scipy.optimize import curve_fit\n",
        "popt, pcov = curve_fit(sigmoid, x_data, y_data)\n",
        "print(\" a = %f, b = %f\" % (popt[0], popt[1]))"
      ],
      "metadata": {
        "colab": {
          "base_uri": "https://localhost:8080/"
        },
        "id": "tLH9TcfqTSSM",
        "outputId": "9dcc9bfd-169d-491e-99e7-a4c31a012a9f"
      },
      "execution_count": 9,
      "outputs": [
        {
          "output_type": "stream",
          "name": "stdout",
          "text": [
            " a = 690.451709, b = 0.997207\n"
          ]
        }
      ]
    },
    {
      "cell_type": "code",
      "source": [
        "x = np.linspace(1960, 2015, 20)\n",
        "x = x/max(x)\n",
        "y = sigmoid(x, *popt)\n",
        "plt.plot(x_data, y_data, 'ro', label='data')\n",
        "plt.plot(x,y, label='S_curve')\n",
        "plt.legend()\n",
        "plt.ylabel('GDP')\n",
        "plt.xlabel('Year')\n",
        "plt.show()"
      ],
      "metadata": {
        "colab": {
          "base_uri": "https://localhost:8080/",
          "height": 449
        },
        "id": "Y3Kv2lTAUaB_",
        "outputId": "1ff42612-fb37-4612-c5c9-87d5a50e50fa"
      },
      "execution_count": 10,
      "outputs": [
        {
          "output_type": "display_data",
          "data": {
            "text/plain": [
              "<Figure size 640x480 with 1 Axes>"
            ],
            "image/png": "[encoded data removed]"
          },
          "metadata": {}
        }
      ]
    },
    {
      "cell_type": "code",
      "source": [
        "# build the model using train set\n",
        "popt, pcov = curve_fit(sigmoid, x_train, y_train)"
      ],
      "metadata": {
        "id": "idhTlT3DWafh"
      },
      "execution_count": 12,
      "outputs": []
    },
    {
      "cell_type": "code",
      "source": [
        "# predict using test set\n",
        "Predicted_y = sigmoid(x_test, *popt)\n",
        "abs_error = np.absolute(Predicted_y - y_test)"
      ],
      "metadata": {
        "id": "Taxjw6ModRFR"
      },
      "execution_count": 13,
      "outputs": []
    },
    {
      "cell_type": "code",
      "source": [
        "# evaluation\n",
        "from sklearn.metrics import r2_score\n",
        "print(\"Mean absolute error: %.3f\" % np.mean(abs_error))\n",
        "print(\"Residual sum of squares (MSE): %.3f\" % np.mean(abs_error ** 2))\n",
        "print(\"R2-score: %.3f\" % r2_score(Predicted_y , y_test))"
      ],
      "metadata": {
        "colab": {
          "base_uri": "https://localhost:8080/"
        },
        "id": "APQ6keaqdTar",
        "outputId": "2bbd86cc-b98f-40b2-c393-f1bcb621a501"
      },
      "execution_count": 21,
      "outputs": [
        {
          "output_type": "stream",
          "name": "stdout",
          "text": [
            "Mean absolute error: 0.044\n",
            "Residual sum of squares (MSE): 0.003\n",
            "R2-score: 0.962\n"
          ]
        }
      ]
    }
  ]
}